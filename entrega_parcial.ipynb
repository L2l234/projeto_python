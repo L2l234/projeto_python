{
 "cells": [
  {
   "cell_type": "code",
   "execution_count": 27,
   "metadata": {},
   "outputs": [],
   "source": [
    "from plyer import notification\n",
    "from datetime import datetime\n",
    "import pandas as pd\n",
    "import requests"
   ]
  },
  {
   "cell_type": "code",
   "execution_count": 29,
   "metadata": {},
   "outputs": [],
   "source": [
    "\n",
    "\n",
    "def alerta(nivel,base, etapa):\n",
    "    \n",
    "    if nivel == 1:\n",
    "        nivel = 'nivel baixo'\n",
    "    elif nivel == 2:\n",
    "        nivel = 'nível médio'\n",
    "    else:\n",
    "        nivel = 'nível alto'\n",
    "    \n",
    "    data_= datetime.now().strftime('%d/%m/%Y %H:%M:%S.%f')\n",
    "\n",
    "    notification.notify (\n",
    "    title = f'ATENÇÃO: Alerta {nivel}',\n",
    "    message = f'Falha no carregamento da base {base} na etapa {etapa}\\n{data_}',\n",
    "    )\n",
    " "
   ]
  },
  {
   "cell_type": "code",
   "execution_count": 30,
   "metadata": {},
   "outputs": [],
   "source": [
    "def load_estados():\n",
    "    url = 'https://brasilapi.com.br/api/ibge/uf/v1'\n",
    "    req_Estados = requests.get(url)\n",
    "    if req_Estados.status_code == 200:\n",
    "        dados_Estados = pd.DataFrame(req_Estados.json())\n",
    "        return(dados_Estados)\n",
    "    else:\n",
    "        alerta('3', 'estados do Brasil', 'carregamento de dados')\n",
    "        return\n"
   ]
  },
  {
   "cell_type": "code",
   "execution_count": 31,
   "metadata": {},
   "outputs": [
    {
     "data": {
      "text/html": [
       "<div>\n",
       "<style scoped>\n",
       "    .dataframe tbody tr th:only-of-type {\n",
       "        vertical-align: middle;\n",
       "    }\n",
       "\n",
       "    .dataframe tbody tr th {\n",
       "        vertical-align: top;\n",
       "    }\n",
       "\n",
       "    .dataframe thead th {\n",
       "        text-align: right;\n",
       "    }\n",
       "</style>\n",
       "<table border=\"1\" class=\"dataframe\">\n",
       "  <thead>\n",
       "    <tr style=\"text-align: right;\">\n",
       "      <th></th>\n",
       "      <th>id</th>\n",
       "      <th>sigla</th>\n",
       "      <th>nome</th>\n",
       "      <th>regiao</th>\n",
       "    </tr>\n",
       "  </thead>\n",
       "  <tbody>\n",
       "    <tr>\n",
       "      <th>0</th>\n",
       "      <td>11</td>\n",
       "      <td>RO</td>\n",
       "      <td>Rondônia</td>\n",
       "      <td>{'id': 1, 'sigla': 'N', 'nome': 'Norte'}</td>\n",
       "    </tr>\n",
       "    <tr>\n",
       "      <th>1</th>\n",
       "      <td>12</td>\n",
       "      <td>AC</td>\n",
       "      <td>Acre</td>\n",
       "      <td>{'id': 1, 'sigla': 'N', 'nome': 'Norte'}</td>\n",
       "    </tr>\n",
       "    <tr>\n",
       "      <th>2</th>\n",
       "      <td>13</td>\n",
       "      <td>AM</td>\n",
       "      <td>Amazonas</td>\n",
       "      <td>{'id': 1, 'sigla': 'N', 'nome': 'Norte'}</td>\n",
       "    </tr>\n",
       "    <tr>\n",
       "      <th>3</th>\n",
       "      <td>14</td>\n",
       "      <td>RR</td>\n",
       "      <td>Roraima</td>\n",
       "      <td>{'id': 1, 'sigla': 'N', 'nome': 'Norte'}</td>\n",
       "    </tr>\n",
       "    <tr>\n",
       "      <th>4</th>\n",
       "      <td>15</td>\n",
       "      <td>PA</td>\n",
       "      <td>Pará</td>\n",
       "      <td>{'id': 1, 'sigla': 'N', 'nome': 'Norte'}</td>\n",
       "    </tr>\n",
       "  </tbody>\n",
       "</table>\n",
       "</div>"
      ],
      "text/plain": [
       "   id sigla      nome                                    regiao\n",
       "0  11    RO  Rondônia  {'id': 1, 'sigla': 'N', 'nome': 'Norte'}\n",
       "1  12    AC      Acre  {'id': 1, 'sigla': 'N', 'nome': 'Norte'}\n",
       "2  13    AM  Amazonas  {'id': 1, 'sigla': 'N', 'nome': 'Norte'}\n",
       "3  14    RR   Roraima  {'id': 1, 'sigla': 'N', 'nome': 'Norte'}\n",
       "4  15    PA      Pará  {'id': 1, 'sigla': 'N', 'nome': 'Norte'}"
      ]
     },
     "execution_count": 31,
     "metadata": {},
     "output_type": "execute_result"
    }
   ],
   "source": [
    "df_brasil = load_estados()\n",
    "df_brasil.head()\n"
   ]
  },
  {
   "cell_type": "code",
   "execution_count": 32,
   "metadata": {},
   "outputs": [],
   "source": [
    "def load_cidades(estado_):\n",
    "    url = (f'https://brasilapi.com.br/api/ibge/municipios/v1/{estado_}?providers=gov')\n",
    "    req_cidades = requests.get(url)\n",
    "\n",
    "    if req_cidades.status_code == 200:\n",
    "        infos_cidades = pd.DataFrame(req_cidades.json())\n",
    "        return(infos_cidades)\n",
    "    else:\n",
    "        alerta('3', 'cidades do estado {estado_}', 'carregamento de dados')"
   ]
  },
  {
   "cell_type": "code",
   "execution_count": 33,
   "metadata": {},
   "outputs": [
    {
     "data": {
      "text/html": [
       "<div>\n",
       "<style scoped>\n",
       "    .dataframe tbody tr th:only-of-type {\n",
       "        vertical-align: middle;\n",
       "    }\n",
       "\n",
       "    .dataframe tbody tr th {\n",
       "        vertical-align: top;\n",
       "    }\n",
       "\n",
       "    .dataframe thead th {\n",
       "        text-align: right;\n",
       "    }\n",
       "</style>\n",
       "<table border=\"1\" class=\"dataframe\">\n",
       "  <thead>\n",
       "    <tr style=\"text-align: right;\">\n",
       "      <th></th>\n",
       "      <th>nome</th>\n",
       "      <th>codigo_ibge</th>\n",
       "    </tr>\n",
       "  </thead>\n",
       "  <tbody>\n",
       "    <tr>\n",
       "      <th>0</th>\n",
       "      <td>ADAMANTINA</td>\n",
       "      <td>3500105</td>\n",
       "    </tr>\n",
       "    <tr>\n",
       "      <th>1</th>\n",
       "      <td>ADOLFO</td>\n",
       "      <td>3500204</td>\n",
       "    </tr>\n",
       "    <tr>\n",
       "      <th>2</th>\n",
       "      <td>AGUAÍ</td>\n",
       "      <td>3500303</td>\n",
       "    </tr>\n",
       "    <tr>\n",
       "      <th>3</th>\n",
       "      <td>ÁGUAS DA PRATA</td>\n",
       "      <td>3500402</td>\n",
       "    </tr>\n",
       "    <tr>\n",
       "      <th>4</th>\n",
       "      <td>ÁGUAS DE LINDÓIA</td>\n",
       "      <td>3500501</td>\n",
       "    </tr>\n",
       "  </tbody>\n",
       "</table>\n",
       "</div>"
      ],
      "text/plain": [
       "               nome codigo_ibge\n",
       "0        ADAMANTINA     3500105\n",
       "1            ADOLFO     3500204\n",
       "2             AGUAÍ     3500303\n",
       "3    ÁGUAS DA PRATA     3500402\n",
       "4  ÁGUAS DE LINDÓIA     3500501"
      ]
     },
     "execution_count": 33,
     "metadata": {},
     "output_type": "execute_result"
    }
   ],
   "source": [
    "df_cidades=load_cidades('SP')\n",
    "df_cidades.head()"
   ]
  },
  {
   "cell_type": "code",
   "execution_count": 38,
   "metadata": {},
   "outputs": [],
   "source": [
    "def load_DDDs(DDD_):\n",
    "    url = (f'https://brasilapi.com.br/api/ddd/v1/{DDD_}')\n",
    "    req_DDD = requests.get(url)\n",
    "\n",
    "    if req_DDD.status_code == 200:\n",
    "        infos_DDD = pd.DataFrame(req_DDD.json())\n",
    "        return(infos_DDD)\n",
    "        \n",
    "    else:\n",
    "        alerta('3', 'informação do DDD {DDD_}', 'carregamento de dados')"
   ]
  },
  {
   "cell_type": "code",
   "execution_count": 40,
   "metadata": {},
   "outputs": [
    {
     "data": {
      "text/html": [
       "<div>\n",
       "<style scoped>\n",
       "    .dataframe tbody tr th:only-of-type {\n",
       "        vertical-align: middle;\n",
       "    }\n",
       "\n",
       "    .dataframe tbody tr th {\n",
       "        vertical-align: top;\n",
       "    }\n",
       "\n",
       "    .dataframe thead th {\n",
       "        text-align: right;\n",
       "    }\n",
       "</style>\n",
       "<table border=\"1\" class=\"dataframe\">\n",
       "  <thead>\n",
       "    <tr style=\"text-align: right;\">\n",
       "      <th></th>\n",
       "      <th>state</th>\n",
       "      <th>cities</th>\n",
       "    </tr>\n",
       "  </thead>\n",
       "  <tbody>\n",
       "    <tr>\n",
       "      <th>0</th>\n",
       "      <td>SP</td>\n",
       "      <td>IPAUÇU</td>\n",
       "    </tr>\n",
       "    <tr>\n",
       "      <th>1</th>\n",
       "      <td>SP</td>\n",
       "      <td>CHAVANTES</td>\n",
       "    </tr>\n",
       "    <tr>\n",
       "      <th>2</th>\n",
       "      <td>SP</td>\n",
       "      <td>VERA CRUZ</td>\n",
       "    </tr>\n",
       "    <tr>\n",
       "      <th>3</th>\n",
       "      <td>SP</td>\n",
       "      <td>URU</td>\n",
       "    </tr>\n",
       "    <tr>\n",
       "      <th>4</th>\n",
       "      <td>SP</td>\n",
       "      <td>UBIRAJARA</td>\n",
       "    </tr>\n",
       "  </tbody>\n",
       "</table>\n",
       "</div>"
      ],
      "text/plain": [
       "  state     cities\n",
       "0    SP     IPAUÇU\n",
       "1    SP  CHAVANTES\n",
       "2    SP  VERA CRUZ\n",
       "3    SP        URU\n",
       "4    SP  UBIRAJARA"
      ]
     },
     "execution_count": 40,
     "metadata": {},
     "output_type": "execute_result"
    }
   ],
   "source": [
    "df_DDD=load_DDDs('14')\n",
    "df_DDD.head()\n",
    "\n"
   ]
  }
 ],
 "metadata": {
  "kernelspec": {
   "display_name": "Python 3",
   "language": "python",
   "name": "python3"
  },
  "language_info": {
   "codemirror_mode": {
    "name": "ipython",
    "version": 3
   },
   "file_extension": ".py",
   "mimetype": "text/x-python",
   "name": "python",
   "nbconvert_exporter": "python",
   "pygments_lexer": "ipython3",
   "version": "3.11.4"
  },
  "orig_nbformat": 4
 },
 "nbformat": 4,
 "nbformat_minor": 2
}
